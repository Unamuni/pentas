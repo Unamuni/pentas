{
 "cells": [
  {
   "cell_type": "code",
   "execution_count": 1,
   "id": "2ed9a841",
   "metadata": {},
   "outputs": [],
   "source": [
    "import glob\n",
    "import pickle\n",
    "import numpy as np\n",
    "import matplotlib.pyplot as plt\n",
    "from pentas import Pentas\n",
    "\n",
    "%matplotlib inline"
   ]
  },
  {
   "cell_type": "code",
   "execution_count": 2,
   "id": "7e716074",
   "metadata": {},
   "outputs": [],
   "source": [
    "plt.rcParams.update({\n",
    "                    'font.family': 'sans-serif',\n",
    "                    'font.sans-serif': 'Helvetica',\n",
    "                    'text.usetex': True,\n",
    "#                     'lines.linewidth': 5,\n",
    "                     'font.size': 22,\n",
    "                     'xtick.direction': 'in',\n",
    "                     'ytick.direction': 'in',\n",
    "                     'xtick.labelsize': 'large',\n",
    "                     'ytick.labelsize': 'large',\n",
    "                     'axes.labelsize': 'medium',\n",
    "                     'axes.titlesize': 'medium',\n",
    "                     'axes.grid.axis': 'both',\n",
    "                     'axes.grid.which': 'both',\n",
    "                     'axes.grid': True,\n",
    "                     'grid.color': 'xkcd:Charcoal',\n",
    "                     'grid.alpha': 0.253,\n",
    "                     'lines.markersize': 8,\n",
    "                     'legend.borderpad': 0.2,\n",
    "#                     'legend.fancybox': True,\n",
    "                     'legend.fontsize': 'medium',\n",
    "                     'legend.framealpha': 0.7,\n",
    "                     'legend.handletextpad': 0.5,\n",
    "                     'legend.labelspacing': 0.33,\n",
    "                     'legend.loc': 'best',\n",
    "                     'figure.figsize': (14, 10),\n",
    "                     'savefig.dpi': 140,\n",
    "                     'pdf.compression': 9})"
   ]
  },
  {
   "cell_type": "code",
   "execution_count": 3,
   "id": "662ca8f6",
   "metadata": {},
   "outputs": [],
   "source": [
    "fname_list = glob.glob('./log/*.log')\n",
    "fname_list.sort()"
   ]
  },
  {
   "cell_type": "code",
   "execution_count": 4,
   "id": "75489c05",
   "metadata": {},
   "outputs": [],
   "source": [
    "p=Pentas.init_new_game()"
   ]
  },
  {
   "cell_type": "code",
   "execution_count": 5,
   "id": "66d5101e",
   "metadata": {},
   "outputs": [
    {
     "name": "stdout",
     "output_type": "stream",
     "text": [
      "./log/20211011-001818.log\n",
      "./log/20211011-002802.log\n",
      "./log/20211011-003352.log\n",
      "./log/20211011-004749.log\n",
      "./log/20211011-004847.log\n",
      "./log/20211011-005527.log\n",
      "./log/20211011-005829.log\n",
      "./log/20211011-005940.log\n",
      "./log/20211011-010150.log\n",
      "./log/20211011-010300.log\n",
      "./log/20211011-010508.log\n",
      "./log/20211011-010919.log\n",
      "./log/20211011-011904.log\n",
      "./log/20211011-012457.log\n",
      "./log/20211011-012638.log\n",
      "./log/20211011-014530.log\n",
      "./log/20211011-015828.log\n",
      "./log/20211011-020004.log\n",
      "./log/20211011-022949.log\n",
      "./log/20211011-024520.log\n",
      "./log/20211011-030328.log\n",
      "./log/20211011-032314.log\n",
      "./log/20211011-032651.log\n",
      "./log/20211011-033430.log\n",
      "./log/20211011-034016.log\n",
      "./log/20211011-034100.log\n",
      "./log/20211011-034406.log\n",
      "./log/20211011-035105.log\n",
      "./log/20211011-040038.log\n",
      "./log/20211011-040804.log\n",
      "./log/20211011-041647.log\n",
      "./log/20211011-042128.log\n",
      "./log/20211011-043237.log\n",
      "./log/20211011-044611.log\n",
      "./log/20211011-045328.log\n",
      "./log/20211011-045546.log\n",
      "./log/20211011-051417.log\n",
      "./log/20211011-051644.log\n",
      "./log/20211011-051936.log\n",
      "./log/20211011-052014.log\n",
      "./log/20211011-052516.log\n",
      "./log/20211011-053120.log\n",
      "./log/20211011-055438.log\n",
      "./log/20211011-061234.log\n",
      "./log/20211011-062343.log\n",
      "./log/20211011-063546.log\n",
      "./log/20211011-064048.log\n",
      "./log/20211011-065222.log\n",
      "./log/20211011-070733.log\n",
      "./log/20211011-072912.log\n",
      "./log/20211011-074202.log\n",
      "./log/20211011-074644.log\n",
      "./log/20211011-075658.log\n",
      "./log/20211011-081454.log\n",
      "./log/20211011-084912.log\n",
      "./log/20211011-090805.log\n",
      "./log/20211011-091153.log\n",
      "./log/20211011-092207.log\n",
      "./log/20211011-092600.log\n",
      "./log/20211011-093053.log\n",
      "./log/20211011-095139.log\n",
      "./log/20211011-100205.log\n",
      "./log/20211011-101604.log\n",
      "./log/20211011-101755.log\n",
      "./log/20211011-102407.log\n",
      "./log/20211011-102859.log\n",
      "./log/20211011-103407.log\n",
      "./log/20211011-104032.log\n",
      "./log/20211011-105249.log\n",
      "./log/20211011-105605.log\n",
      "./log/20211011-105933.log\n",
      "./log/20211011-111518.log\n",
      "./log/20211011-111835.log\n",
      "./log/20211011-113231.log\n",
      "./log/20211011-114611.log\n",
      "./log/20211011-115238.log\n",
      "./log/20211011-115423.log\n",
      "./log/20211011-115608.log\n",
      "./log/20211011-115905.log\n",
      "./log/20211011-120911.log\n",
      "./log/20211011-122715.log\n",
      "./log/20211011-124534.log\n",
      "./log/20211011-124820.log\n",
      "./log/20211011-124902.log\n",
      "./log/20211011-125826.log\n",
      "./log/20211011-130601.log\n",
      "./log/20211011-130828.log\n",
      "./log/20211011-130900.log\n",
      "./log/20211011-131143.log\n",
      "./log/20211011-131816.log\n",
      "./log/20211011-133128.log\n",
      "./log/20211011-133135.log\n",
      "./log/20211011-134021.log\n",
      "./log/20211011-134135.log\n",
      "./log/20211011-134420.log\n",
      "./log/20211011-135605.log\n",
      "./log/20211011-135852.log\n",
      "./log/20211011-140353.log\n",
      "./log/20211011-140701.log\n",
      "./log/20211011-141136.log\n",
      "./log/20211011-142038.log\n",
      "./log/20211011-192640.log\n",
      "./log/20211011-193649.log\n",
      "./log/20211011-202248.log\n",
      "./log/20211011-202516.log\n",
      "./log/20211011-203007.log\n",
      "./log/20211011-203048.log\n",
      "./log/20211011-203122.log\n",
      "./log/20211011-203609.log\n",
      "./log/20211011-203647.log\n",
      "./log/20211011-203744.log\n",
      "./log/20211011-204559.log\n",
      "./log/20211011-204610.log\n",
      "./log/20211011-204844.log\n",
      "./log/20211011-205415.log\n",
      "./log/20211011-211128.log\n",
      "./log/20211011-211818.log\n",
      "./log/20211012-020136.log\n"
     ]
    }
   ],
   "source": [
    "score=[]\n",
    "turn=[]\n",
    "for log_fname in fname_list:\n",
    "    print(log_fname)\n",
    "    fp = open(log_fname,'rb')\n",
    "    turns=pickle.load(fp)\n",
    "    fp.close()\n",
    "    for turn_num in range(len(turns)-1):\n",
    "        p=turns\n",
    "        #Pentas.display_board(p,turn_num,turns[turn_num]['placement'])\n",
    "        #print('')\n",
    "    #Pentas.display_board(p)\n",
    "    #print('')\n",
    "    score.append(turns[-1]['score'])\n",
    "    turn.append(turns[-1]['turn'])"
   ]
  },
  {
   "cell_type": "code",
   "execution_count": 6,
   "id": "7b57ada6",
   "metadata": {},
   "outputs": [
    {
     "name": "stdout",
     "output_type": "stream",
     "text": [
      "  0 1 2 3 4 5 6 7  current     next      \n",
      "0 █ █ █ █ ░ ░ ░ ░  █           █         \n",
      "1 █ ░ ░ ░ ░ ░ ░ █  █ █ █       █ █       \n",
      "2 ░ ░ ░ ░ ░ ░ ░ █  █             █ █     \n",
      "3 ░ ░ ░ ░ ░ ░ █ █\n",
      "4 ░ ░ ░ ░ ░ ░ █ █\n",
      "5 █ ░ ░ ░ ░ ░ ░ ░  Turn: 181\n",
      "6 ░ ░ ░ █ ░ ░ ░ ░  Score: 1761\n",
      "7 ░ █ ░ ░ ░ ░ ░ █  Lines: 107\n"
     ]
    }
   ],
   "source": [
    "Pentas.display_board(p)"
   ]
  },
  {
   "cell_type": "code",
   "execution_count": 7,
   "id": "748691a7",
   "metadata": {},
   "outputs": [
    {
     "data": {
      "text/plain": [
       "[118, 10690, 2139.64406779661, 1879.372415368564]"
      ]
     },
     "execution_count": 7,
     "metadata": {},
     "output_type": "execute_result"
    }
   ],
   "source": [
    "[len(score),np.max(score),np.mean(score),np.std(score,ddof=1)]"
   ]
  },
  {
   "cell_type": "code",
   "execution_count": 8,
   "id": "c0e5ebe0",
   "metadata": {},
   "outputs": [
    {
     "name": "stdout",
     "output_type": "stream",
     "text": [
      "25732\n"
     ]
    }
   ],
   "source": [
    "print(sum(turn[1:]))"
   ]
  },
  {
   "cell_type": "code",
   "execution_count": 9,
   "id": "7b881618",
   "metadata": {},
   "outputs": [
    {
     "data": {
      "text/plain": [
       "(0.0, 120.0)"
      ]
     },
     "execution_count": 9,
     "metadata": {},
     "output_type": "execute_result"
    },
    {
     "data": {
      "image/png": "[encoded data removed]",
      "text/plain": [
       "<Figure size 1008x720 with 1 Axes>"
      ]
     },
     "metadata": {
      "needs_background": "light"
     },
     "output_type": "display_data"
    }
   ],
   "source": [
    "fig, ax = plt.subplots(1)\n",
    "ax.plot(score,'o')\n",
    "ax.grid('on')\n",
    "ax.set_ylim([0,12000])\n",
    "ax.set_xlim([0,120])"
   ]
  },
  {
   "cell_type": "code",
   "execution_count": 10,
   "id": "486a2216",
   "metadata": {},
   "outputs": [
    {
     "data": {
      "image/png": "[encoded data removed]",
      "text/plain": [
       "<Figure size 1008x720 with 1 Axes>"
      ]
     },
     "metadata": {
      "needs_background": "light"
     },
     "output_type": "display_data"
    }
   ],
   "source": [
    "n, bins, patches = plt.hist(x=score, bins=15, color='#ff0000')\n",
    "x=np.arange(0,12000,100)+1\n",
    "plt.plot(x,40*np.exp(-x/2100))\n",
    "plt.grid('on')\n",
    "plt.xlabel('Score')\n",
    "plt.ylabel('Frequency')\n",
    "plt.title('Pentas scoring: play={play}, avg={avg:.0f},std={std:.0f},max={max:.0f}'.format(play=len(score),avg=np.mean(score),std=np.std(score,ddof=1),max=np.max(score)))\n",
    "#plt.text(23, 45, r'$\\mu=15, b=3$')\n",
    "maxfreq = n.max()\n",
    "plt.ylim([0,40])\n",
    "plt.yticks([0,10,20,30,40])\n",
    "\n",
    "plt.savefig('./hist.png', bbox_inches='tight')"
   ]
  }
 ],
 "metadata": {
  "kernelspec": {
   "display_name": "Python 3",
   "language": "python",
   "name": "python3"
  },
  "language_info": {
   "codemirror_mode": {
    "name": "ipython",
    "version": 3
   },
   "file_extension": ".py",
   "mimetype": "text/x-python",
   "name": "python",
   "nbconvert_exporter": "python",
   "pygments_lexer": "ipython3",
   "version": "3.8.5"
  }
 },
 "nbformat": 4,
 "nbformat_minor": 5
}
